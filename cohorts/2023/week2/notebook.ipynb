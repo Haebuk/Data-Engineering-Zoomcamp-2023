{
 "cells": [
  {
   "cell_type": "code",
   "execution_count": 1,
   "metadata": {},
   "outputs": [],
   "source": [
    "import pandas as pd"
   ]
  },
  {
   "cell_type": "code",
   "execution_count": 29,
   "metadata": {},
   "outputs": [],
   "source": [
    "def columns2fix(df: pd.DataFrame) -> dict:\n",
    "    mixed=[]\n",
    "    int_na=[]\n",
    "    for col in df.columns:\n",
    "        weird = (df[[col]].applymap(type) != df[[col]].iloc[0].apply(type)).any(axis=1)\n",
    "        if len(df[weird]) > 0:\n",
    "            mixed.append(col)\n",
    "    for col in [x for x in df.dtypes.keys() if df.dtypes[x]=='float64']:\n",
    "            if all(x.is_integer() for x in df[df[col].isna()==False][col]):\n",
    "                int_na.append(col)\n",
    "    return {'mixed_types': mixed, 'int_na': int_na}"
   ]
  },
  {
   "cell_type": "code",
   "execution_count": 30,
   "metadata": {},
   "outputs": [
    {
     "name": "stdout",
     "output_type": "stream",
     "text": [
      "{'mixed_types': [], 'int_na': ['VendorID', 'RatecodeID', 'PULocationID', 'DOLocationID', 'passenger_count', 'ehail_fee', 'payment_type', 'trip_type']}\n",
      "{'mixed_types': [], 'int_na': ['VendorID', 'RatecodeID', 'PULocationID', 'DOLocationID', 'passenger_count', 'ehail_fee', 'payment_type', 'trip_type']}\n",
      "{'mixed_types': [], 'int_na': ['VendorID', 'RatecodeID', 'PULocationID', 'DOLocationID', 'passenger_count', 'ehail_fee', 'payment_type', 'trip_type']}\n",
      "{'mixed_types': [], 'int_na': ['VendorID', 'RatecodeID', 'PULocationID', 'DOLocationID', 'passenger_count', 'ehail_fee', 'payment_type', 'trip_type']}\n",
      "{'mixed_types': [], 'int_na': ['VendorID', 'RatecodeID', 'PULocationID', 'DOLocationID', 'passenger_count', 'ehail_fee', 'payment_type', 'trip_type']}\n",
      "{'mixed_types': [], 'int_na': ['VendorID', 'RatecodeID', 'PULocationID', 'DOLocationID', 'passenger_count', 'ehail_fee', 'payment_type', 'trip_type']}\n",
      "{'mixed_types': ['store_and_fwd_flag'], 'int_na': ['VendorID', 'RatecodeID', 'PULocationID', 'DOLocationID', 'passenger_count', 'payment_type', 'trip_type']}\n",
      "{'mixed_types': ['store_and_fwd_flag'], 'int_na': ['VendorID', 'RatecodeID', 'PULocationID', 'DOLocationID', 'passenger_count', 'payment_type', 'trip_type']}\n",
      "{'mixed_types': ['store_and_fwd_flag'], 'int_na': ['VendorID', 'RatecodeID', 'PULocationID', 'DOLocationID', 'passenger_count', 'ehail_fee', 'payment_type', 'trip_type']}\n",
      "{'mixed_types': ['store_and_fwd_flag'], 'int_na': ['VendorID', 'RatecodeID', 'PULocationID', 'DOLocationID', 'passenger_count', 'ehail_fee', 'payment_type', 'trip_type']}\n",
      "{'mixed_types': ['store_and_fwd_flag'], 'int_na': ['VendorID', 'RatecodeID', 'PULocationID', 'DOLocationID', 'passenger_count', 'ehail_fee', 'payment_type', 'trip_type']}\n",
      "{'mixed_types': ['store_and_fwd_flag'], 'int_na': ['VendorID', 'RatecodeID', 'PULocationID', 'DOLocationID', 'passenger_count', 'ehail_fee', 'payment_type', 'trip_type']}\n",
      "{'mixed_types': ['store_and_fwd_flag'], 'int_na': ['VendorID', 'RatecodeID', 'PULocationID', 'DOLocationID', 'passenger_count', 'ehail_fee', 'payment_type', 'trip_type']}\n",
      "{'mixed_types': ['store_and_fwd_flag'], 'int_na': ['VendorID', 'RatecodeID', 'PULocationID', 'DOLocationID', 'passenger_count', 'ehail_fee', 'payment_type', 'trip_type']}\n",
      "{'mixed_types': ['store_and_fwd_flag'], 'int_na': ['VendorID', 'RatecodeID', 'PULocationID', 'DOLocationID', 'passenger_count', 'ehail_fee', 'payment_type', 'trip_type']}\n",
      "{'mixed_types': ['store_and_fwd_flag'], 'int_na': ['VendorID', 'RatecodeID', 'PULocationID', 'DOLocationID', 'passenger_count', 'ehail_fee', 'payment_type', 'trip_type']}\n",
      "{'mixed_types': ['store_and_fwd_flag'], 'int_na': ['VendorID', 'RatecodeID', 'PULocationID', 'DOLocationID', 'passenger_count', 'ehail_fee', 'payment_type', 'trip_type']}\n",
      "{'mixed_types': ['store_and_fwd_flag'], 'int_na': ['VendorID', 'RatecodeID', 'PULocationID', 'DOLocationID', 'passenger_count', 'ehail_fee', 'payment_type', 'trip_type']}\n",
      "{'mixed_types': ['store_and_fwd_flag'], 'int_na': ['VendorID', 'RatecodeID', 'PULocationID', 'DOLocationID', 'passenger_count', 'ehail_fee', 'payment_type', 'trip_type']}\n",
      "{'mixed_types': ['store_and_fwd_flag'], 'int_na': ['VendorID', 'RatecodeID', 'PULocationID', 'DOLocationID', 'passenger_count', 'ehail_fee', 'payment_type', 'trip_type']}\n",
      "{'mixed_types': ['store_and_fwd_flag'], 'int_na': ['VendorID', 'RatecodeID', 'PULocationID', 'DOLocationID', 'passenger_count', 'ehail_fee', 'payment_type', 'trip_type']}\n",
      "{'mixed_types': ['store_and_fwd_flag'], 'int_na': ['VendorID', 'RatecodeID', 'PULocationID', 'DOLocationID', 'passenger_count', 'ehail_fee', 'payment_type', 'trip_type']}\n",
      "{'mixed_types': ['store_and_fwd_flag'], 'int_na': ['VendorID', 'RatecodeID', 'PULocationID', 'DOLocationID', 'passenger_count', 'ehail_fee', 'payment_type', 'trip_type']}\n",
      "{'mixed_types': ['store_and_fwd_flag'], 'int_na': ['VendorID', 'RatecodeID', 'PULocationID', 'DOLocationID', 'passenger_count', 'ehail_fee', 'payment_type', 'trip_type']}\n"
     ]
    }
   ],
   "source": [
    "for y in [2019, 2020]:\n",
    "    for i in range(1, 13):\n",
    "        df = pd.read_parquet(f\"green/green_tripdata_{y}-{i:02d}.parquet\")\n",
    "        # df = df.astype(\n",
    "        #     {\n",
    "        #         'VendorID': 'float64',\n",
    "        #         'RatecodeID': 'float64',\n",
    "        #         'passenger_count': 'float64',\n",
    "        #         'payment_type': 'float64',\n",
    "        #         'trip_type': 'float64'\n",
    "        #     }\n",
    "        # )\n",
    "        # df.to_parquet(f\"green/green_tripdata_{y}-{i:02d}.parquet\")\n",
    "        d = columns2fix(df)\n",
    "        print(d)"
   ]
  },
  {
   "cell_type": "code",
   "execution_count": 31,
   "metadata": {},
   "outputs": [
    {
     "data": {
      "text/plain": [
       "VendorID                        float64\n",
       "lpep_pickup_datetime     datetime64[ns]\n",
       "lpep_dropoff_datetime    datetime64[ns]\n",
       "store_and_fwd_flag               object\n",
       "RatecodeID                      float64\n",
       "PULocationID                    float64\n",
       "DOLocationID                    float64\n",
       "passenger_count                 float64\n",
       "trip_distance                   float64\n",
       "fare_amount                     float64\n",
       "extra                           float64\n",
       "mta_tax                         float64\n",
       "tip_amount                      float64\n",
       "tolls_amount                    float64\n",
       "ehail_fee                       float64\n",
       "improvement_surcharge           float64\n",
       "total_amount                    float64\n",
       "payment_type                    float64\n",
       "trip_type                       float64\n",
       "congestion_surcharge            float64\n",
       "dtype: object"
      ]
     },
     "execution_count": 31,
     "metadata": {},
     "output_type": "execute_result"
    }
   ],
   "source": [
    "pd.read_parquet(\"green/green_tripdata_2020-12.parquet\").dtypes"
   ]
  },
  {
   "cell_type": "code",
   "execution_count": 17,
   "metadata": {},
   "outputs": [
    {
     "data": {
      "text/plain": [
       "VendorID                        float64\n",
       "lpep_pickup_datetime     datetime64[ns]\n",
       "lpep_dropoff_datetime    datetime64[ns]\n",
       "store_and_fwd_flag               object\n",
       "RatecodeID                      float64\n",
       "PULocationID                    float64\n",
       "DOLocationID                    float64\n",
       "passenger_count                 float64\n",
       "trip_distance                   float64\n",
       "fare_amount                     float64\n",
       "extra                           float64\n",
       "mta_tax                         float64\n",
       "tip_amount                      float64\n",
       "tolls_amount                    float64\n",
       "ehail_fee                       float64\n",
       "improvement_surcharge           float64\n",
       "total_amount                    float64\n",
       "payment_type                    float64\n",
       "trip_type                       float64\n",
       "congestion_surcharge            float64\n",
       "dtype: object"
      ]
     },
     "execution_count": 17,
     "metadata": {},
     "output_type": "execute_result"
    }
   ],
   "source": [
    "df = pd.read_parquet(\"green/green_tripdata_2019-02.parquet\").dtypes\n",
    "for i in df"
   ]
  },
  {
   "cell_type": "code",
   "execution_count": 40,
   "metadata": {},
   "outputs": [
    {
     "data": {
      "text/plain": [
       "VendorID                        float64\n",
       "tpep_pickup_datetime     datetime64[ns]\n",
       "tpep_dropoff_datetime    datetime64[ns]\n",
       "passenger_count                 float64\n",
       "trip_distance                   float64\n",
       "RatecodeID                      float64\n",
       "store_and_fwd_flag               object\n",
       "PULocationID                      int64\n",
       "DOLocationID                      int64\n",
       "payment_type                    float64\n",
       "fare_amount                     float64\n",
       "extra                           float64\n",
       "mta_tax                         float64\n",
       "tip_amount                      float64\n",
       "tolls_amount                    float64\n",
       "improvement_surcharge           float64\n",
       "total_amount                    float64\n",
       "congestion_surcharge            float64\n",
       "dtype: object"
      ]
     },
     "execution_count": 40,
     "metadata": {},
     "output_type": "execute_result"
    }
   ],
   "source": [
    "pd.read_parquet(f\"yellow/yellow_tripdata_2019-12.parquet\").dtypes"
   ]
  },
  {
   "cell_type": "code",
   "execution_count": 41,
   "metadata": {},
   "outputs": [
    {
     "name": "stdout",
     "output_type": "stream",
     "text": [
      "2019 1\n",
      "2019 2\n",
      "2019 3\n",
      "2019 4\n",
      "2019 5\n",
      "2019 6\n",
      "2019 7\n",
      "2019 8\n",
      "2019 9\n",
      "2019 10\n",
      "2019 11\n",
      "2019 12\n",
      "2020 1\n",
      "2020 2\n",
      "2020 3\n",
      "2020 4\n",
      "2020 5\n",
      "2020 6\n",
      "2020 7\n",
      "2020 8\n",
      "2020 9\n",
      "2020 10\n",
      "2020 11\n",
      "2020 12\n"
     ]
    }
   ],
   "source": [
    "for y in [2019, 2020]:\n",
    "    for i in range(1, 13):\n",
    "        print(y, i)\n",
    "        df = pd.read_parquet(f\"yellow/yellow_tripdata_{y}-{i:02d}.parquet\")\n",
    "        df = df.astype(\n",
    "            {\n",
    "                'VendorID': 'float64',\n",
    "                'RatecodeID': 'float64',\n",
    "                'passenger_count': 'float64',\n",
    "                'payment_type': 'float64',\n",
    "                'PULocationID': 'float64',\n",
    "                'DOLocationID': 'float64',\n",
    "            },\n",
    "        )\n",
    "        df.to_parquet(f\"yellow/yellow_tripdata_{y}-{i:02d}.parquet\")"
   ]
  },
  {
   "cell_type": "code",
   "execution_count": 42,
   "metadata": {},
   "outputs": [
    {
     "data": {
      "text/plain": [
       "VendorID                        float64\n",
       "tpep_pickup_datetime     datetime64[ns]\n",
       "tpep_dropoff_datetime    datetime64[ns]\n",
       "passenger_count                 float64\n",
       "trip_distance                   float64\n",
       "RatecodeID                      float64\n",
       "store_and_fwd_flag               object\n",
       "PULocationID                    float64\n",
       "DOLocationID                    float64\n",
       "payment_type                    float64\n",
       "fare_amount                     float64\n",
       "extra                           float64\n",
       "mta_tax                         float64\n",
       "tip_amount                      float64\n",
       "tolls_amount                    float64\n",
       "improvement_surcharge           float64\n",
       "total_amount                    float64\n",
       "congestion_surcharge            float64\n",
       "dtype: object"
      ]
     },
     "execution_count": 42,
     "metadata": {},
     "output_type": "execute_result"
    }
   ],
   "source": [
    "pd.read_parquet(f\"yellow/yellow_tripdata_2019-12.parquet\").dtypes"
   ]
  },
  {
   "cell_type": "code",
   "execution_count": null,
   "metadata": {},
   "outputs": [],
   "source": []
  }
 ],
 "metadata": {
  "kernelspec": {
   "display_name": "afidev",
   "language": "python",
   "name": "python3"
  },
  "language_info": {
   "codemirror_mode": {
    "name": "ipython",
    "version": 3
   },
   "file_extension": ".py",
   "mimetype": "text/x-python",
   "name": "python",
   "nbconvert_exporter": "python",
   "pygments_lexer": "ipython3",
   "version": "3.8.12"
  },
  "orig_nbformat": 4,
  "vscode": {
   "interpreter": {
    "hash": "5fc98145dfb51aec17c269ca50fe26b026a4979c08d88bf04ad8ca196d56ab6e"
   }
  }
 },
 "nbformat": 4,
 "nbformat_minor": 2
}
